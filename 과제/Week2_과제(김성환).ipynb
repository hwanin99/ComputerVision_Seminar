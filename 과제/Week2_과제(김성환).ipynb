{
  "nbformat": 4,
  "nbformat_minor": 0,
  "metadata": {
    "colab": {
      "provenance": [],
      "include_colab_link": true
    },
    "kernelspec": {
      "name": "python3",
      "display_name": "Python 3"
    },
    "language_info": {
      "name": "python"
    }
  },
  "cells": [
    {
      "cell_type": "markdown",
      "metadata": {
        "id": "view-in-github",
        "colab_type": "text"
      },
      "source": [
        "<a href=\"https://colab.research.google.com/github/hwanin99/ComputerVision_Seminar/blob/main/%EA%B3%BC%EC%A0%9C/Week2_%EA%B3%BC%EC%A0%9C(%EA%B9%80%EC%84%B1%ED%99%98).ipynb\" target=\"_parent\"><img src=\"https://colab.research.google.com/assets/colab-badge.svg\" alt=\"Open In Colab\"/></a>"
      ]
    },
    {
      "cell_type": "code",
      "source": [
        "from google.colab import drive\n",
        "drive.mount('/content/drive')"
      ],
      "metadata": {
        "colab": {
          "base_uri": "https://localhost:8080/"
        },
        "id": "1pRlZuovwU1C",
        "outputId": "1a627a77-3b99-465e-9397-e7396295f635"
      },
      "execution_count": null,
      "outputs": [
        {
          "output_type": "stream",
          "name": "stdout",
          "text": [
            "Drive already mounted at /content/drive; to attempt to forcibly remount, call drive.mount(\"/content/drive\", force_remount=True).\n"
          ]
        }
      ]
    },
    {
      "cell_type": "code",
      "execution_count": null,
      "metadata": {
        "colab": {
          "base_uri": "https://localhost:8080/",
          "height": 35
        },
        "id": "E2TWPuMpseuR",
        "outputId": "aaa85d68-24c8-43e7-8141-fe14f4fc46ea"
      },
      "outputs": [
        {
          "output_type": "execute_result",
          "data": {
            "text/plain": [
              "'/content'"
            ],
            "application/vnd.google.colaboratory.intrinsic+json": {
              "type": "string"
            }
          },
          "metadata": {},
          "execution_count": 2
        }
      ],
      "source": [
        "pwd"
      ]
    },
    {
      "cell_type": "code",
      "source": [
        "!cd /content/drive/MyDrive/CV_seminar_project/ # 현재 경로를 앞으로 진행할 프로젝트 디렉토리로 이동한다."
      ],
      "metadata": {
        "id": "-SIaEn2zshW_"
      },
      "execution_count": null,
      "outputs": []
    },
    {
      "cell_type": "code",
      "source": [
        "pwd"
      ],
      "metadata": {
        "colab": {
          "base_uri": "https://localhost:8080/",
          "height": 35
        },
        "id": "7H8lfjx2shUa",
        "outputId": "5d548bad-4250-4e16-e0d3-2e714ce851a1"
      },
      "execution_count": null,
      "outputs": [
        {
          "output_type": "execute_result",
          "data": {
            "text/plain": [
              "'/content'"
            ],
            "application/vnd.google.colaboratory.intrinsic+json": {
              "type": "string"
            }
          },
          "metadata": {},
          "execution_count": 4
        }
      ]
    },
    {
      "cell_type": "code",
      "source": [
        "import glob\n",
        "'''glob 함수를 이용하면, 해당 경로에 있는 파일들의 경로를 전부 리스트로 얻어올 수 있습니다. glob 라이브러리를 이용하여 이번 과제를 해결해주세요.'''\n",
        "dolphin_img_list = glob.glob('/content/drive/MyDrive/CV_seminar_project/original/dolphin/*')\n",
        "shark_img_list = glob.glob('/content/drive/MyDrive/CV_seminar_project/original/shark/*')\n",
        "whale_img_list = glob.glob('/content/drive/MyDrive/CV_seminar_project/original/whale/*')\n",
        "\n",
        "dic = {'dolphin':dolphin_img_list, 'shark': shark_img_list, 'whale': whale_img_list}\n",
        "for key in dic.keys():\n",
        "  print(f'{key}이미지가 ',len(dic[key]), '개 있습니다.')\n",
        "print('------------------------------------------------------------------------')\n",
        "\n",
        "length_list = []\n",
        "for key in dic.keys():\n",
        "  print(f'{key}이미지는 trian, valid, test셋에 대해 ',int(len(dic[key])*0.7), int(len(dic[key])*0.2), int(len(dic[key])*0.1), '개씩 배정해주세요.')\n",
        "  length_list.append([int(len(dic[key])*0.7), int(len(dic[key])*0.2), int(len(dic[key])*0.1)])"
      ],
      "metadata": {
        "colab": {
          "base_uri": "https://localhost:8080/"
        },
        "id": "c1s5GjHAshR-",
        "outputId": "cd41d04d-a598-4dc2-f180-422ba40c5730"
      },
      "execution_count": null,
      "outputs": [
        {
          "output_type": "stream",
          "name": "stdout",
          "text": [
            "dolphin이미지가  0 개 있습니다.\n",
            "shark이미지가  0 개 있습니다.\n",
            "whale이미지가  0 개 있습니다.\n",
            "------------------------------------------------------------------------\n",
            "dolphin이미지는 trian, valid, test셋에 대해  0 0 0 개씩 배정해주세요.\n",
            "shark이미지는 trian, valid, test셋에 대해  0 0 0 개씩 배정해주세요.\n",
            "whale이미지는 trian, valid, test셋에 대해  0 0 0 개씩 배정해주세요.\n"
          ]
        }
      ]
    },
    {
      "cell_type": "markdown",
      "source": [
        "#우선, 디렉토리 만드는 함수!"
      ],
      "metadata": {
        "id": "oWWxoSCJH1s_"
      }
    },
    {
      "cell_type": "code",
      "source": [
        "def mk_dir(self):\n",
        "  os.makedirs(self+'/train')\n",
        "  os.makedirs(self+'/train/dolphin')\n",
        "  os.makedirs(self+'/train/shark')\n",
        "  os.makedirs(self+'/train/whale')\n",
        "\n",
        "  os.makedirs(self+'/valid')\n",
        "  os.makedirs(self+'/valid/dolphin')\n",
        "  os.makedirs(self+'/valid/shark')\n",
        "  os.makedirs(self+'/valid/whale')\n",
        "\n",
        "  os.makedirs(self+'/test')\n",
        "  os.makedirs(self+'/test/dolphin')\n",
        "  os.makedirs(self+'/test/shark')\n",
        "  os.makedirs(self+'/test/whale')\n",
        "mk_dir('/content/drive/MyDrive/CV_seminar_project')"
      ],
      "metadata": {
        "id": "jNdD_8ltHw5E"
      },
      "execution_count": null,
      "outputs": []
    },
    {
      "cell_type": "markdown",
      "source": [
        "#쪼갠 리스트를 출력하는 함수\n",
        "* 겹치는 걸 피하려고 리스트를 앞에서부터 7:2:1로 나눔\n",
        "* 나눈 리스트를 변수들에 저장\n"
      ],
      "metadata": {
        "id": "Ap5N-BeDH9Ab"
      }
    },
    {
      "cell_type": "code",
      "source": [
        "def move_img():\n",
        "  dolphin_train=dolphin_img_list[:261:1]\n",
        "  dolphin_valid=dolphin_img_list[261:335:1]\n",
        "  dolphin_test=dolphin_img_list[335::1]\n",
        "\n",
        "  shark_train=shark_img_list[:341:1]\n",
        "  shark_valid=shark_img_list[341:438:1]\n",
        "  shark_test=shark_img_list[438::1]\n",
        "\n",
        "  whale_train=whale_img_list[:315:1]\n",
        "  whale_valid=whale_img_list[315:405:1]\n",
        "  whale_test=whale_img_list[405::1]\n",
        "\n",
        "  print(len(dolphin_train),len(dolphin_valid),len(dolphin_test))\n",
        "  print(len(shark_train),len(shark_valid),len(shark_test))\n",
        "  print(len(whale_train),len(whale_valid),len(whale_test))\n",
        "\n",
        "move_img()"
      ],
      "metadata": {
        "colab": {
          "base_uri": "https://localhost:8080/"
        },
        "id": "Ep0kJsIgd4KQ",
        "outputId": "18c402e6-86a8-4ece-b279-fc491aa0b348"
      },
      "execution_count": null,
      "outputs": [
        {
          "output_type": "stream",
          "name": "stdout",
          "text": [
            "0 0 0\n",
            "0 0 0\n",
            "0 0 0\n"
          ]
        }
      ]
    },
    {
      "cell_type": "markdown",
      "source": [
        "#요건 파일 옮기는 코드이다!"
      ],
      "metadata": {
        "id": "wiOdf2OXLdfy"
      }
    },
    {
      "cell_type": "code",
      "source": [
        "import shutil\n",
        "\n",
        "dolphin_train_path='/content/drive/MyDrive/CV_seminar_project/train/dolphin'\n",
        "for i in range(int(len(dolphin_train))):\n",
        "  shutil.move(dolphin_train[i],dolphin_train_path)\n",
        "\n",
        "dolphin_valid_path='/content/drive/MyDrive/CV_seminar_project/valid/dolphin'\n",
        "for i in range(int(len(dolphin_valid))):\n",
        "  shutil.move(dolphin_valid[i],dolphin_valid_path)\n",
        "\n",
        "dolphin_test_path='/content/drive/MyDrive/CV_seminar_project/test/dolphin'\n",
        "for i in range(int(len(dolphin_test))):\n",
        "  shutil.move(dolphin_test[i],dolphin_test_path)\n",
        "\n",
        "shark_train_path='/content/drive/MyDrive/CV_seminar_project/train/shark'\n",
        "for i in range(int(len(shark_train))):\n",
        "  shutil.move(shark_train[i],shark_train_path)\n",
        "\n",
        "shark_valid_path='/content/drive/MyDrive/CV_seminar_project/valid/shark'\n",
        "for i in range(int(len(shark_valid))):\n",
        "  shutil.move(shark_valid[i],shark_valid_path)\n",
        "\n",
        "shark_test_path='/content/drive/MyDrive/CV_seminar_project/test/shark'\n",
        "for i in range(int(len(shark_test))):\n",
        "  shutil.move(shark_test[i],shark_test_path)\n",
        "\n",
        "whale_train_path='/content/drive/MyDrive/CV_seminar_project/train/whale'\n",
        "for i in range(int(len(whale_train))):\n",
        "  shutil.move(whale_train[i],whale_train_path)\n",
        "\n",
        "whale_valid_path='/content/drive/MyDrive/CV_seminar_project/valid/whale'\n",
        "for i in range(int(len(whale_valid))):\n",
        "  shutil.move(whale_valid[i],whale_valid_path)\n",
        "\n",
        "\n",
        "whale_test_path='/content/drive/MyDrive/CV_seminar_project/test/whale'\n",
        "for i in range(int(len(whale_test))):\n",
        "  shutil.move(whale_test[i],whale_test_path)"
      ],
      "metadata": {
        "id": "7LK6AvrHL0RO"
      },
      "execution_count": null,
      "outputs": []
    },
    {
      "cell_type": "markdown",
      "source": [
        "#생성한 파일에 개수가 전부 맞게 옮겨진 걸 볼 수 있다!"
      ],
      "metadata": {
        "id": "BN8OIghThA6m"
      }
    },
    {
      "cell_type": "code",
      "source": [
        "def checking_dirs(self):\n",
        "  print(len(glob.glob(f'{self}/train/dolphin/*')),end=',')\n",
        "  print(len(glob.glob(f'{self}/valid/dolphin/*')),end=',')\n",
        "  print(len(glob.glob(f'{self}/test/dolphin/*')))\n",
        "\n",
        "  print(len(glob.glob(f'{self}/train/shark/*')),end=',')\n",
        "  print(len(glob.glob(f'{self}/valid/shark/*')),end=',')\n",
        "  print(len(glob.glob(f'{self}/test/shark/*')))\n",
        "\n",
        "  print(len(glob.glob(f'{self}/train/whale/*')),end=',')\n",
        "  print(len(glob.glob(f'{self}/valid/whale/*')),end=',')\n",
        "  print(len(glob.glob(f'{self}/test/whale/*')))\n",
        "checking_dirs('/content/drive/MyDrive/CV_seminar_project')"
      ],
      "metadata": {
        "colab": {
          "base_uri": "https://localhost:8080/"
        },
        "id": "-Y4Dhs3sdHek",
        "outputId": "ff22bc39-85b3-431a-fcc5-9537ff64386c"
      },
      "execution_count": null,
      "outputs": [
        {
          "output_type": "stream",
          "name": "stdout",
          "text": [
            "261,74,38\n",
            "341,97,50\n",
            "315,90,46\n"
          ]
        }
      ]
    },
    {
      "cell_type": "code",
      "source": [
        "import os\n",
        "import glob\n",
        "import cv2\n",
        "import time\n",
        "import shutil\n",
        "\n",
        "class Make_dataset_dir():\n",
        "  def __init__(self, root_dir):\n",
        "    '''클래스 내의 인자 생성 함수입니다. 아래의 인자들을 이용하여, 금주의 과제를 해결해주세요.'''\n",
        "    self.root_path = root_dir+'/' if root_dir[-1] != '/' else root_dir # 현재 진행할 프로젝트 -> root path는 /content/drive/MyDrive/CV_seminar_project/ 가 되어야합니다.\n",
        "    self.img_path_list = root_dir+'original' # 전달한 이미지들의 상위 경로\n",
        "    self.trainset_path = root_dir+'train/'\n",
        "    self.validset_path = root_dir+'valid/'\n",
        "    self.testset_path = root_dir+'test/'\n",
        "    self.class_list = ['dolphin', 'shark', 'whale']\n",
        "\n",
        "  def mk_dir(self):\n",
        "    os.makedirs(self+'/train')\n",
        "    os.makedirs(self+'/train/dolphin')\n",
        "    os.makedirs(self+'/train/shark')\n",
        "    os.makedirs(self+'/train/whale')\n",
        "\n",
        "    os.makedirs(self+'/valid')\n",
        "    os.makedirs(self+'/valid/dolphin')\n",
        "    os.makedirs(self+'/valid/shark')\n",
        "    os.makedirs(self+'/valid/whale')\n",
        "\n",
        "    os.makedirs(self+'/test')\n",
        "    os.makedirs(self+'/test/dolphin')\n",
        "    os.makedirs(self+'/test/shark')\n",
        "    os.makedirs(self+'/test/whale')\n",
        "  mk_dir('/content/drive/MyDrive/CV_seminar_project')\n",
        "    \n",
        "  def move_img(self):\n",
        "    dolphin_train=dolphin_img_list[:261:1]\n",
        "    dolphin_valid=dolphin_img_list[261:335:1]\n",
        "    dolphin_test=dolphin_img_list[335::1]\n",
        "\n",
        "    shark_train=shark_img_list[:341:1]\n",
        "    shark_valid=shark_img_list[341:438:1]\n",
        "    shark_test=shark_img_list[438::1]\n",
        "\n",
        "    whale_train=whale_img_list[:315:1]\n",
        "    whale_valid=whale_img_list[315:405:1]\n",
        "    whale_test=whale_img_list[405::1]\n",
        "\n",
        "    print(len(dolphin_train),len(dolphin_valid),len(dolphin_test))\n",
        "    print(len(shark_train),len(shark_valid),len(shark_test))\n",
        "    print(len(whale_train),len(whale_valid),len(whale_test))\n",
        "\n",
        "    dolphin_train_path=self+'/train/dolphin'\n",
        "    for i in range(int(len(dolphin_train))):\n",
        "      shutil.move(dolphin_train[i],dolphin_train_path)\n",
        "\n",
        "    dolphin_valid_path=self+'/valid/dolphin'\n",
        "    for i in range(int(len(dolphin_valid))):\n",
        "      shutil.move(dolphin_valid[i],dolphin_valid_path)\n",
        "\n",
        "    dolphin_test_path=self+'/test/dolphin'\n",
        "    for i in range(int(len(dolphin_test))):\n",
        "      shutil.move(dolphin_test[i],dolphin_test_path)\n",
        "\n",
        "    shark_train_path=self+'/train/shark'\n",
        "    for i in range(int(len(shark_train))):\n",
        "      shutil.move(shark_train[i],shark_train_path)\n",
        "\n",
        "    shark_valid_path=self+'/valid/shark'\n",
        "    for i in range(int(len(shark_valid))):\n",
        "      shutil.move(shark_valid[i],shark_valid_path)\n",
        "\n",
        "    shark_test_path=self+'/test/shark'\n",
        "    for i in range(int(len(shark_test))):\n",
        "      shutil.move(shark_test[i],shark_test_path)\n",
        "\n",
        "    whale_train_path=self+'/train/whale'\n",
        "    for i in range(int(len(whale_train))):\n",
        "      shutil.move(whale_train[i],whale_train_path)\n",
        "\n",
        "    whale_valid_path=self+'/valid/whale'\n",
        "    for i in range(int(len(whale_valid))):\n",
        "      shutil.move(whale_valid[i],whale_valid_path)\n",
        "\n",
        "\n",
        "    whale_test_path=self+'/test/whale'\n",
        "    for i in range(int(len(whale_test))):\n",
        "      shutil.move(whale_test[i],whale_test_path)\n",
        "  move_img('/content/drive/MyDrive/CV_seminar_project')\n",
        "\n",
        "  def run(self):\n",
        "    '''run 함수를 돌리면, 모든 작업이 완료될 수 있게끔 mk_dir 함수와 move_img 함수를 생성해주시면 됩니다.'''\n",
        "    start = time.time()\n",
        "    self.mk_dir()\n",
        "    self.move_img()\n",
        "    print('총 소요시간: ', time.time()-start)\n",
        "  \n",
        "  def checking_dirs(self):\n",
        "    print(len(glob.glob(f'{self}/train/dolphin/*')),end=',')\n",
        "    print(len(glob.glob(f'{self}/valid/dolphin/*')),end=',')\n",
        "    print(len(glob.glob(f'{self}/test/dolphin/*')))\n",
        "\n",
        "    print(len(glob.glob(f'{self}/train/shark/*')),end=',')\n",
        "    print(len(glob.glob(f'{self}/valid/shark/*')),end=',')\n",
        "    print(len(glob.glob(f'{self}/test/shark/*')))\n",
        "\n",
        "    print(len(glob.glob(f'{self}/train/whale/*')),end=',')\n",
        "    print(len(glob.glob(f'{self}/valid/whale/*')),end=',')\n",
        "    print(len(glob.glob(f'{self}/test/whale/*')))\n",
        "  checking_dirs('/content/drive/MyDrive/CV_seminar_project')"
      ],
      "metadata": {
        "id": "Om1MmtwNshPq"
      },
      "execution_count": null,
      "outputs": []
    },
    {
      "cell_type": "markdown",
      "source": [
        "#splitfolder로 한 것"
      ],
      "metadata": {
        "id": "5t4g_wa8XmwG"
      }
    },
    {
      "cell_type": "code",
      "source": [
        "#train, valid, test 폴더를 만들고, 내부에는 클래스 별 폴더를 추가로 만듬.\n",
        "\n",
        "os.makedirs('/content/drive/MyDrive/CV_seminar_project/train')\n",
        "os.makedirs('/content/drive/MyDrive/CV_seminar_project/train/dolphin')\n",
        "os.makedirs('/content/drive/MyDrive/CV_seminar_project/train/shark')\n",
        "os.makedirs('/content/drive/MyDrive/CV_seminar_project/train/whale')\n",
        "\n",
        "os.makedirs('/content/drive/MyDrive/CV_seminar_project/valid')\n",
        "os.makedirs('/content/drive/MyDrive/CV_seminar_project/valid/dolphin')\n",
        "os.makedirs('/content/drive/MyDrive/CV_seminar_project/valid/shark')\n",
        "os.makedirs('/content/drive/MyDrive/CV_seminar_project/valid/whale')\n",
        "\n",
        "os.makedirs('/content/drive/MyDrive/CV_seminar_project/test')\n",
        "os.makedirs('/content/drive/MyDrive/CV_seminar_project/test/dolphin')\n",
        "os.makedirs('/content/drive/MyDrive/CV_seminar_project/test/shark')\n",
        "os.makedirs('/content/drive/MyDrive/CV_seminar_project/test/whale')"
      ],
      "metadata": {
        "id": "z4ExFn8sXjyq"
      },
      "execution_count": null,
      "outputs": []
    },
    {
      "cell_type": "code",
      "source": [
        "#split-folders 설치\n",
        "!pip install split-folders"
      ],
      "metadata": {
        "id": "H9Lf7a6MXkDD"
      },
      "execution_count": null,
      "outputs": []
    },
    {
      "cell_type": "code",
      "source": [
        "#original내의 dolphin,shark,whale을 train,valid,test을 7:2:1로 나누어 파일 생성.\n",
        "import splitfolders\n",
        "splitfolders.ratio('/content/drive/MyDrive/CV_seminar_project/original','/content/drive/MyDrive/CV_seminar_project',\n",
        "                    seed=1234,ratio=(.7,.2,.1))"
      ],
      "metadata": {
        "id": "IPTVxj-JXk78"
      },
      "execution_count": null,
      "outputs": []
    },
    {
      "cell_type": "code",
      "source": [
        "print('dolphin train의 개수:',len(os.listdir('/content/drive/MyDrive/CV_seminar_project/train/dolphin')))\n",
        "print('dolphin valid의 개수:',len(os.listdir('/content/drive/MyDrive/CV_seminar_project/val/dolphin')))\n",
        "print('dolphin test의 개수:',len(os.listdir('/content/drive/MyDrive/CV_seminar_project/test/dolphin')))\n",
        "\n",
        "print('shark train의 개수:',len(os.listdir('/content/drive/MyDrive/CV_seminar_project/train/shark')))\n",
        "print('shark valid의 개수:',len(os.listdir('/content/drive/MyDrive/CV_seminar_project/val/shark'))) \n",
        "print('shark test의 개수:',len(os.listdir('/content/drive/MyDrive/CV_seminar_project/test/shark'))) \n",
        "\n",
        "print('whale train의 개수:',len(os.listdir('/content/drive/MyDrive/CV_seminar_project/train/whale'))) \n",
        "print('whale valid의 개수:',len(os.listdir('/content/drive/MyDrive/CV_seminar_project/val/whale'))) \n",
        "print('whale test의 개수:',len(os.listdir('/content/drive/MyDrive/CV_seminar_project/test/whale'))) "
      ],
      "metadata": {
        "id": "IIhvds_nXlqO"
      },
      "execution_count": null,
      "outputs": []
    },
    {
      "cell_type": "code",
      "source": [
        "#다시 넘버링\n",
        "path = '/content/drive/MyDrive/CV_seminar_project/train/'\n",
        "dolphin= glob.glob(path+'/dolphin'+'/*')\n",
        "shark= glob.glob(path+'/shark'+'/*')\n",
        "whale= glob.glob(path+'/whale'+'/*')\n",
        "\n",
        "\n",
        "def rename(files):\n",
        "\n",
        "  if 'dolphin' in files[0]:\n",
        "     for i,f in enumerate(files):\n",
        "         os.rename(f, os.path.join(path+\"/dolphin\", 'dolphin_' + '{0:03d}.jpg'.format(i)))\n",
        "     dolphin = glob.glob(path+\"/dolphin\" + '/*')    \n",
        "     print(\"dolphin {}번째 이미지까지 성공\".format(i+1))\n",
        "\n",
        "  elif 'shark' in files[0]:\n",
        "     for i,f in enumerate(files):\n",
        "         os.rename(f, os.path.join(path+\"/shark\", 'shark_' + '{0:03d}.jpg'.format(i)))\n",
        "     shark = glob.glob(path+\"/shark\"+'/*')\n",
        "     print(\"shark {}번째 이미지까지 성공\".format(i+1))\n",
        "\n",
        "  elif 'whale' in files[0]:\n",
        "     for i,f in enumerate(files):\n",
        "         os.rename(f, os.path.join(path+\"/whale\", 'whale_' + '{0:03d}.jpg'.format(i)))\n",
        "     whale = glob.glob(path+\"/whale\"+'/*')\n",
        "     print(\"whale {}번째 이미지까지 성공\".format(i+1))\n",
        "\n",
        "rename(dolphin)\n",
        "rename(shark)\n",
        "rename(whale)"
      ],
      "metadata": {
        "id": "y3diCev3XlyC"
      },
      "execution_count": null,
      "outputs": []
    },
    {
      "cell_type": "code",
      "source": [
        "path = '/content/drive/MyDrive/CV_seminar_project/train/'\n",
        "dolphin= glob.glob(path+'/dolphin'+'/*')\n",
        "shark= glob.glob(path+'/shark'+'/*')\n",
        "whale= glob.glob(path+'/whale'+'/*')\n",
        "\n",
        "print('각각 마지막 파일 이름 : ',os.path.basename(sorted(dolphin)[-1]), \n",
        "      os.path.basename(sorted(shark)[-1]), os.path.basename(sorted(whale)[-1]))"
      ],
      "metadata": {
        "id": "usqICg9eX1sd"
      },
      "execution_count": null,
      "outputs": []
    },
    {
      "cell_type": "code",
      "source": [
        "path = '/content/drive/MyDrive/CV_seminar_project/val/'\n",
        "dolphin= glob.glob(path+'/dolphin'+'/*')\n",
        "shark= glob.glob(path+'/shark'+'/*')\n",
        "whale= glob.glob(path+'/whale'+'/*')\n",
        "\n",
        "rename(dolphin)\n",
        "rename(shark)\n",
        "rename(whale)"
      ],
      "metadata": {
        "id": "yJFp6JPxXl6K"
      },
      "execution_count": null,
      "outputs": []
    },
    {
      "cell_type": "code",
      "source": [
        "path = '/content/drive/MyDrive/CV_seminar_project/val/'\n",
        "dolphin= glob.glob(path+'/dolphin'+'/*')\n",
        "shark= glob.glob(path+'/shark'+'/*')\n",
        "whale= glob.glob(path+'/whale'+'/*')\n",
        "\n",
        "print('각각 마지막 파일 이름 : ',os.path.basename(sorted(dolphin)[-1]), \n",
        "      os.path.basename(sorted(shark)[-1]), os.path.basename(sorted(whale)[-1]))"
      ],
      "metadata": {
        "id": "6t5zn4q9X5rV"
      },
      "execution_count": null,
      "outputs": []
    },
    {
      "cell_type": "code",
      "source": [
        "path = '/content/drive/MyDrive/CV_seminar_project/test/'\n",
        "dolphin= glob.glob(path+'/dolphin'+'/*')\n",
        "shark= glob.glob(path+'/shark'+'/*')\n",
        "whale= glob.glob(path+'/whale'+'/*')\n",
        "\n",
        "rename(dolphin)\n",
        "rename(shark)\n",
        "rename(whale)"
      ],
      "metadata": {
        "id": "qQEqiqy0X1F3"
      },
      "execution_count": null,
      "outputs": []
    },
    {
      "cell_type": "code",
      "source": [
        "path = '/content/drive/MyDrive/CV_seminar_project/test/'\n",
        "dolphin= glob.glob(path+'/dolphin'+'/*')\n",
        "shark= glob.glob(path+'/shark'+'/*')\n",
        "whale= glob.glob(path+'/whale'+'/*')\n",
        "\n",
        "print('각각 마지막 파일 이름 : ',os.path.basename(sorted(dolphin)[-1]), \n",
        "      os.path.basename(sorted(shark)[-1]), os.path.basename(sorted(whale)[-1]))"
      ],
      "metadata": {
        "id": "CQk3BAbgX6RQ"
      },
      "execution_count": null,
      "outputs": []
    }
  ]
}