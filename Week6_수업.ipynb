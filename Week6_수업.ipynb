{
  "nbformat": 4,
  "nbformat_minor": 0,
  "metadata": {
    "colab": {
      "provenance": [],
      "authorship_tag": "ABX9TyNqvRyFrViRU0S2Dvb0tiE5",
      "include_colab_link": true
    },
    "kernelspec": {
      "name": "python3",
      "display_name": "Python 3"
    },
    "language_info": {
      "name": "python"
    },
    "accelerator": "GPU",
    "gpuClass": "standard"
  },
  "cells": [
    {
      "cell_type": "markdown",
      "metadata": {
        "id": "view-in-github",
        "colab_type": "text"
      },
      "source": [
        "<a href=\"https://colab.research.google.com/github/hwanin99/ComputerVision_Seminar/blob/main/Week5_%EC%88%98%EC%97%85.ipynb\" target=\"_parent\"><img src=\"https://colab.research.google.com/assets/colab-badge.svg\" alt=\"Open In Colab\"/></a>"
      ]
    },
    {
      "cell_type": "code",
      "execution_count": null,
      "metadata": {
        "colab": {
          "base_uri": "https://localhost:8080/"
        },
        "id": "JGz1Fsruakau",
        "outputId": "19d7a29c-c2d0-4f1b-fdac-3f842abe02da"
      },
      "outputs": [
        {
          "output_type": "stream",
          "name": "stdout",
          "text": [
            "Mounted at /content/drive\n"
          ]
        }
      ],
      "source": [
        "from google.colab import drive\n",
        "drive.mount('/content/drive')"
      ]
    },
    {
      "cell_type": "code",
      "source": [
        "%cd /content/drive/MyDrive/CV_seminar_project"
      ],
      "metadata": {
        "colab": {
          "base_uri": "https://localhost:8080/"
        },
        "id": "US1lOZShefCQ",
        "outputId": "515c2547-dfcd-4c5e-9d35-b55911523607"
      },
      "execution_count": null,
      "outputs": [
        {
          "output_type": "stream",
          "name": "stdout",
          "text": [
            "/content/drive/MyDrive/CV_seminar_project\n"
          ]
        }
      ]
    },
    {
      "cell_type": "code",
      "source": [
        "import torch\n",
        "device='cuda' if torch.cuda.is_available() else 'cpu'\n",
        "torch.manual_seed(42)\n",
        "if device == 'cuda':\n",
        "  torch.cuda.manual_seed_all(42)\n",
        "device"
      ],
      "metadata": {
        "colab": {
          "base_uri": "https://localhost:8080/",
          "height": 35
        },
        "id": "t6fuwb_vlBSG",
        "outputId": "be47dbf6-62ae-4e37-d87e-295f17054e07"
      },
      "execution_count": null,
      "outputs": [
        {
          "output_type": "execute_result",
          "data": {
            "text/plain": [
              "'cuda'"
            ],
            "application/vnd.google.colaboratory.intrinsic+json": {
              "type": "string"
            }
          },
          "metadata": {},
          "execution_count": 6
        }
      ]
    },
    {
      "cell_type": "markdown",
      "source": [
        "#1. 데이터 셋 준비하기기"
      ],
      "metadata": {
        "id": "M1vcK5__l1Df"
      }
    },
    {
      "cell_type": "code",
      "source": [
        "import torch.nn as nn\n",
        "\n",
        "#하이퍼 파라미터\n",
        "batch_size=8\n",
        "lr=0.0001\n",
        "epochs=50\n",
        "optimizer_name='adam'\n",
        "model_name='resnet_50'\n",
        "criterion=nn.CrossEntropyLoss().to(device) #cost function"
      ],
      "metadata": {
        "id": "6uK8VPjhfpd9"
      },
      "execution_count": null,
      "outputs": []
    },
    {
      "cell_type": "code",
      "source": [
        "from dataset import Custom_dataset as C\n",
        "import os\n",
        "import glob\n",
        "import cv2\n",
        "import time\n",
        "import albumentations as A\n",
        "from albumentations.pytorch.transforms import ToTensorV2 # albumentations 텐서화 함수\n",
        "\n",
        "root_path = '/content/drive/MyDrive/CV_seminar_project/'\n",
        "\n",
        "train_transforms = A.Compose([ #Compose : 여러개를 동시에 적용, Compose자체에도 확률 적용가능능\n",
        "    A.Resize(224,224),\n",
        "    A.Transpose(p=0.5),\n",
        "    A.HorizontalFlip(p=0.5), #좌우반전\n",
        "    A.VerticalFlip(p=0.5), #상하반전\n",
        "    A.ShiftScaleRotate(p=0.5), \n",
        "    A.HueSaturationValue(hue_shift_limit=20, sat_shift_limit=20, val_shift_limit=20, p=0.5), #색도, 채도, 명도 변경경\n",
        "    A.RandomBrightnessContrast(brightness_limit=(-0.1,0.1), contrast_limit=(-0.1, 0.1), p=0.5), #밝기 및 대비를 랜덤 지정\n",
        "    A.ChannelShuffle(), #RGB채널을 랜덤하게 섞음.\n",
        "    A.Normalize(mean=(0.485, 0.456, 0.406), std=(0.229, 0.224, 0.225), max_pixel_value=255.0, always_apply=False, p=1.0), # 이미지넷 데이터셋 통계값으로 Normalize\n",
        "    A.CoarseDropout(p=0.5), # 약간씩 없애기\n",
        "    ToTensorV2()\n",
        "])\n",
        "\n",
        "test_transforms = A.Compose([\n",
        "    A.Resize(224,224),\n",
        "    A.Normalize(mean=(0.485, 0.456, 0.406), std=(0.229, 0.224, 0.225), max_pixel_value=255.0, always_apply=False, p=1.0), # 텐서타입은 안해줌\n",
        "    ToTensorV2() # Normalize를 먼저하고 tensor화를 진행해야한다.\n",
        "])\n",
        "\n",
        "### Pytorch 데이터 클래스 생성\n",
        "train_class = C(root_path=root_path, mode='train', transforms=train_transforms)\n",
        "valid_class = C(root_path=root_path, mode='valid', transforms=test_transforms)\n",
        "test_class = C(root_path=root_path, mode='test', transforms=test_transforms)\n",
        "\n",
        "### Pytorch BatchLoader 생성 (학습에 이용할 최종 dataloader)\n",
        "from torch.utils.data import DataLoader as DataLoader\n",
        "\n",
        "train_loader = DataLoader(train_class, batch_size=batch_size, shuffle = True, num_workers=0)\n",
        "valid_loader = DataLoader(valid_class, batch_size=batch_size, shuffle = False, num_workers=0)\n",
        "test_loader = DataLoader(test_class, batch_size=batch_size, shuffle = False, num_workers=0)"
      ],
      "metadata": {
        "id": "MeQMCme1t_eJ"
      },
      "execution_count": null,
      "outputs": []
    },
    {
      "cell_type": "markdown",
      "source": [
        "#2. 모델 불러오기기"
      ],
      "metadata": {
        "id": "rpd41o0v7TYB"
      }
    },
    {
      "cell_type": "code",
      "source": [
        "from torchvision import models #모델 라이브러리 함수\n",
        "\n",
        "resnet_50=models.resnet50(pretrained=True).to(device) #선행학습 여부\n",
        "\n",
        "import torch.nn as nn #파이토치 뉴럴네트워크 layer 라이브러리\n",
        "resnet_50.fc=nn.Linear(resnet_50.fc.in_features,3).to(device)"
      ],
      "metadata": {
        "id": "0dXWyUk4ee47"
      },
      "execution_count": null,
      "outputs": []
    },
    {
      "cell_type": "code",
      "source": [
        "from torchsummary import summary #모델 아키텍처 확인하는 함수\n",
        "\n",
        "summary(resnet_50, input_size=(3,224,224))"
      ],
      "metadata": {
        "id": "7y21AU0dee2i"
      },
      "execution_count": null,
      "outputs": []
    },
    {
      "cell_type": "code",
      "source": [
        "optimizer=torch.optim.Adam(resnet_50.parameters(),lr=lr,weight_decay=1e-8) "
      ],
      "metadata": {
        "id": "YjeeC4r8nhvA"
      },
      "execution_count": null,
      "outputs": []
    },
    {
      "cell_type": "markdown",
      "source": [
        "#3. 모델 학습시키기"
      ],
      "metadata": {
        "id": "STYCb6UXkeI0"
      }
    },
    {
      "cell_type": "code",
      "source": [
        "train_acc_list = []\n",
        "train_loss_list = []\n",
        "\n",
        "test_acc_list = []\n",
        "test_loss_list = []\n",
        "\n",
        "for epoch in range(1, epochs) :\n",
        "  running_loss = 0.0\n",
        "  test_running_loss=0.0\n",
        "\n",
        "  total = 0\n",
        "  correct = 0\n",
        "  \n",
        "  train_acc = 0\n",
        "  test_acc = 0\n",
        "\n",
        "  resnet_50.train()\n",
        "  for i, (train_img, train_label) in enumerate(train_loader) :\n",
        "    # gpu에 할당\n",
        "    train_img = train_img.to(device)\n",
        "    train_label = train_label.to(device)\n",
        "    optimizer.zero_grad(set_to_none = True) # 계산했던 가중치 초기화\n",
        "\n",
        "    output = resnet_50(train_img) #모델에 입력\n",
        "    loss = criterion(output, train_label) #loss\n",
        "    loss.backward() #loss로부터 역전파 : 미분 구하기\n",
        "    optimizer.step() #학습\n",
        "\n",
        "    # loss $ acc\n",
        "    running_loss += loss.item()\n",
        "    _, predictions = torch.max(output.data, dim=1)\n",
        "    \n",
        "    total+=train_label.size(0)\n",
        "    correct+=(predictions == train_label).sum().item()\n",
        "    train_acc+=100*(correct/total)\n",
        "  \n",
        "  running_loss=round(running_loss/(i+1),3) #소수점 반올림\n",
        "  print(f'Trainset {epoch}/{epochs} Loss: {running_loss}, Accuracy: {round(train_acc/(i+1),3)}%')  \n",
        "  train_acc_list.append(train_acc/(i+1))\n",
        "  train_loss_list.append(running_loss)\n",
        "\n",
        "  resnet_50.eval()\n",
        "  for i, (valid_img, valid_label) in enumerate(valid_loader): \n",
        "      # gpu에 할당\n",
        "    valid_img = valid_img.to(device)\n",
        "    valid_label = valid_label.to(device)\n",
        "    \n",
        "    output = resnet_50(valid_img) #모델에 입력\n",
        "    loss = criterion(output, valid_label) #loss\n",
        "    \n",
        "    #loss, acc\n",
        "    test_running_loss += loss.item()\n",
        "    _, predictions = torch.max(output.data, dim=1)\n",
        "    \n",
        "    total+=valid_label.size(0)\n",
        "    correct+=(predictions == valid_label).sum().item()\n",
        "    test_acc+=100*(correct/total)\n",
        "\n",
        "  test_running_loss=round(test_running_loss/(i+1),3) #소수점 반올림\n",
        "  print(f'Validset {epoch}/{epochs} Loss: {test_running_loss}, Accuracy: {round(test_acc/(i+1),3)}% \\n')  \n",
        "  test_acc_list.append(test_acc/(i+1))\n",
        "  test_loss_list.append(test_running_loss)\n",
        "    "
      ],
      "metadata": {
        "colab": {
          "base_uri": "https://localhost:8080/"
        },
        "id": "x7oTbqRsuyf8",
        "outputId": "e8b5e7bc-7faf-4937-82b3-32d10dcb9828"
      },
      "execution_count": null,
      "outputs": [
        {
          "output_type": "stream",
          "name": "stdout",
          "text": [
            "Trainset 1/50 Loss: 0.112, Accuracy: 95.916%\n",
            "Validset 1/50 Loss: 0.575, Accuracy: 93.983% \n",
            "\n",
            "Trainset 2/50 Loss: 0.098, Accuracy: 95.98%\n",
            "Validset 2/50 Loss: 0.348, Accuracy: 95.361% \n",
            "\n",
            "Trainset 3/50 Loss: 0.092, Accuracy: 97.406%\n",
            "Validset 3/50 Loss: 0.397, Accuracy: 96.358% \n",
            "\n",
            "Trainset 4/50 Loss: 0.075, Accuracy: 97.949%\n",
            "Validset 4/50 Loss: 0.481, Accuracy: 95.544% \n",
            "\n",
            "Trainset 5/50 Loss: 0.068, Accuracy: 98.9%\n",
            "Validset 5/50 Loss: 0.363, Accuracy: 96.218% \n",
            "\n",
            "Trainset 6/50 Loss: 0.111, Accuracy: 97.618%\n",
            "Validset 6/50 Loss: 0.463, Accuracy: 94.631% \n",
            "\n",
            "Trainset 7/50 Loss: 0.117, Accuracy: 97.041%\n",
            "Validset 7/50 Loss: 0.501, Accuracy: 93.845% \n",
            "\n",
            "Trainset 8/50 Loss: 0.154, Accuracy: 94.976%\n",
            "Validset 8/50 Loss: 0.576, Accuracy: 92.32% \n",
            "\n",
            "Trainset 9/50 Loss: 0.102, Accuracy: 95.761%\n",
            "Validset 9/50 Loss: 0.324, Accuracy: 94.879% \n",
            "\n",
            "Trainset 10/50 Loss: 0.142, Accuracy: 96.071%\n",
            "Validset 10/50 Loss: 0.315, Accuracy: 94.47% \n",
            "\n",
            "Trainset 11/50 Loss: 0.129, Accuracy: 96.668%\n",
            "Validset 11/50 Loss: 0.51, Accuracy: 94.995% \n",
            "\n",
            "Trainset 12/50 Loss: 0.123, Accuracy: 96.166%\n",
            "Validset 12/50 Loss: 0.452, Accuracy: 93.899% \n",
            "\n",
            "Trainset 13/50 Loss: 0.171, Accuracy: 94.174%\n",
            "Validset 13/50 Loss: 0.434, Accuracy: 92.893% \n",
            "\n",
            "Trainset 14/50 Loss: 0.106, Accuracy: 96.592%\n",
            "Validset 14/50 Loss: 0.444, Accuracy: 95.37% \n",
            "\n",
            "Trainset 15/50 Loss: 0.093, Accuracy: 96.44%\n",
            "Validset 15/50 Loss: 0.5, Accuracy: 94.77% \n",
            "\n",
            "Trainset 16/50 Loss: 0.057, Accuracy: 98.594%\n",
            "Validset 16/50 Loss: 0.508, Accuracy: 96.916% \n",
            "\n",
            "Trainset 17/50 Loss: 0.175, Accuracy: 94.605%\n",
            "Validset 17/50 Loss: 0.462, Accuracy: 93.122% \n",
            "\n",
            "Trainset 18/50 Loss: 0.099, Accuracy: 96.075%\n",
            "Validset 18/50 Loss: 0.371, Accuracy: 95.537% \n",
            "\n",
            "Trainset 19/50 Loss: 0.08, Accuracy: 97.581%\n",
            "Validset 19/50 Loss: 0.424, Accuracy: 95.53% \n",
            "\n",
            "Trainset 20/50 Loss: 0.11, Accuracy: 98.116%\n",
            "Validset 20/50 Loss: 0.931, Accuracy: 93.486% \n",
            "\n",
            "Trainset 21/50 Loss: 0.105, Accuracy: 96.747%\n",
            "Validset 21/50 Loss: 0.387, Accuracy: 96.0% \n",
            "\n",
            "Trainset 22/50 Loss: 0.091, Accuracy: 96.262%\n",
            "Validset 22/50 Loss: 0.436, Accuracy: 95.55% \n",
            "\n",
            "Trainset 23/50 Loss: 0.075, Accuracy: 97.962%\n",
            "Validset 23/50 Loss: 0.489, Accuracy: 94.759% \n",
            "\n",
            "Trainset 24/50 Loss: 0.095, Accuracy: 96.237%\n",
            "Validset 24/50 Loss: 0.497, Accuracy: 95.042% \n",
            "\n",
            "Trainset 25/50 Loss: 0.059, Accuracy: 98.647%\n",
            "Validset 25/50 Loss: 0.463, Accuracy: 96.51% \n",
            "\n",
            "Trainset 26/50 Loss: 0.093, Accuracy: 97.636%\n",
            "Validset 26/50 Loss: 0.467, Accuracy: 94.804% \n",
            "\n",
            "Trainset 27/50 Loss: 0.103, Accuracy: 96.92%\n",
            "Validset 27/50 Loss: 0.35, Accuracy: 95.56% \n",
            "\n",
            "Trainset 28/50 Loss: 0.075, Accuracy: 96.67%\n",
            "Validset 28/50 Loss: 0.464, Accuracy: 95.366% \n",
            "\n",
            "Trainset 29/50 Loss: 0.125, Accuracy: 97.328%\n",
            "Validset 29/50 Loss: 0.525, Accuracy: 93.723% \n",
            "\n",
            "Trainset 30/50 Loss: 0.11, Accuracy: 96.029%\n",
            "Validset 30/50 Loss: 0.286, Accuracy: 95.913% \n",
            "\n",
            "Trainset 31/50 Loss: 0.075, Accuracy: 97.126%\n",
            "Validset 31/50 Loss: 0.292, Accuracy: 96.279% \n",
            "\n",
            "Trainset 32/50 Loss: 0.083, Accuracy: 96.5%\n",
            "Validset 32/50 Loss: 0.336, Accuracy: 95.467% \n",
            "\n",
            "Trainset 33/50 Loss: 0.088, Accuracy: 96.4%\n",
            "Validset 33/50 Loss: 0.444, Accuracy: 95.584% \n",
            "\n",
            "Trainset 34/50 Loss: 0.085, Accuracy: 97.98%\n",
            "Validset 34/50 Loss: 0.453, Accuracy: 96.342% \n",
            "\n",
            "Trainset 35/50 Loss: 0.072, Accuracy: 97.763%\n",
            "Validset 35/50 Loss: 0.309, Accuracy: 96.906% \n",
            "\n",
            "Trainset 36/50 Loss: 0.112, Accuracy: 96.844%\n",
            "Validset 36/50 Loss: 0.3, Accuracy: 95.299% \n",
            "\n",
            "Trainset 37/50 Loss: 0.1, Accuracy: 94.936%\n",
            "Validset 37/50 Loss: 0.292, Accuracy: 95.271% \n",
            "\n",
            "Trainset 38/50 Loss: 0.057, Accuracy: 96.191%\n",
            "Validset 38/50 Loss: 0.253, Accuracy: 97.162% \n",
            "\n",
            "Trainset 39/50 Loss: 0.056, Accuracy: 99.051%\n",
            "Validset 39/50 Loss: 0.294, Accuracy: 97.322% \n",
            "\n",
            "Trainset 40/50 Loss: 0.059, Accuracy: 97.695%\n",
            "Validset 40/50 Loss: 0.291, Accuracy: 96.785% \n",
            "\n",
            "Trainset 41/50 Loss: 0.083, Accuracy: 96.753%\n",
            "Validset 41/50 Loss: 0.381, Accuracy: 95.733% \n",
            "\n",
            "Trainset 42/50 Loss: 0.062, Accuracy: 97.6%\n",
            "Validset 42/50 Loss: 0.518, Accuracy: 95.77% \n",
            "\n",
            "Trainset 43/50 Loss: 0.14, Accuracy: 95.115%\n",
            "Validset 43/50 Loss: 0.361, Accuracy: 95.316% \n",
            "\n",
            "Trainset 44/50 Loss: 0.074, Accuracy: 97.951%\n",
            "Validset 44/50 Loss: 0.501, Accuracy: 95.473% \n",
            "\n",
            "Trainset 45/50 Loss: 0.094, Accuracy: 94.186%\n",
            "Validset 45/50 Loss: 0.428, Accuracy: 94.874% \n",
            "\n",
            "Trainset 46/50 Loss: 0.063, Accuracy: 97.399%\n",
            "Validset 46/50 Loss: 0.3, Accuracy: 96.613% \n",
            "\n",
            "Trainset 47/50 Loss: 0.044, Accuracy: 98.84%\n",
            "Validset 47/50 Loss: 0.386, Accuracy: 96.867% \n",
            "\n",
            "Trainset 48/50 Loss: 0.083, Accuracy: 96.784%\n",
            "Validset 48/50 Loss: 0.424, Accuracy: 95.247% \n",
            "\n",
            "Trainset 49/50 Loss: 0.082, Accuracy: 97.179%\n",
            "Validset 49/50 Loss: 0.523, Accuracy: 95.667% \n",
            "\n"
          ]
        }
      ]
    },
    {
      "cell_type": "code",
      "source": [
        "import matplotlib.pyplot as plt\n",
        "import matplotlib\n",
        "import seaborn as sns\n",
        "import numpy as np\n",
        "\n",
        "fig,axes=plt.subplots(nrows=1,ncols=2,figsize=(15,5))\n",
        "\n",
        "axes[0].plot(np.arange(len(train_acc_list)),train_acc_list,label='train_acc',linewidth=2)\n",
        "axes[0].plot(np.arange(len(test_acc_list)),test_acc_list,label='test_acc',linewidth=2)\n",
        "axes[0].set_title('Accuracy')\n",
        "axes[0].legend(loc='best')\n",
        "\n",
        "axes[1].plot(np.arange(len(train_loss_list)),train_loss_list,label='train_loss',linewidth=2)\n",
        "axes[1].plot(np.arange(len(test_loss_list)),test_loss_list,label='test_loss',linewidth=2)\n",
        "axes[1].set_title('Loss')\n",
        "axes[1].legend(loc='best')\n"
      ],
      "metadata": {
        "colab": {
          "base_uri": "https://localhost:8080/",
          "height": 354
        },
        "id": "sUVilw78iGDE",
        "outputId": "b54b0cfa-d768-4f3b-bf98-374f323f3ba9"
      },
      "execution_count": null,
      "outputs": [
        {
          "output_type": "execute_result",
          "data": {
            "text/plain": [
              "<matplotlib.legend.Legend at 0x7fcbe56fcf10>"
            ]
          },
          "metadata": {},
          "execution_count": 42
        },
        {
          "output_type": "display_data",
          "data": {
            "text/plain": [
              "<Figure size 1080x360 with 2 Axes>"
            ],
            "image/png": "[encoded data removed]"
          },
          "metadata": {
            "needs_background": "light"
          }
        }
      ]
    }
  ]
}
